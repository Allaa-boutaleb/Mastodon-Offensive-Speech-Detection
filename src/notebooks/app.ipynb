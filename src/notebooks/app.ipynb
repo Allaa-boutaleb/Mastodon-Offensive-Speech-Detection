{
 "cells": [
  {
   "cell_type": "code",
   "execution_count": 25,
   "metadata": {},
   "outputs": [],
   "source": [
    "import pandas as pd\n",
    "import numpy as np\n",
    "import os\n",
    "import sys\n",
    "from dataclasses import dataclass, field\n",
    "sys.path.append('..')\n",
    "\n",
    "from sklearn.feature_extraction.text import TfidfVectorizer\n",
    "from sklearn.naive_bayes import MultinomialNB\n",
    "from sklearn.linear_model import LogisticRegression\n",
    "from sklearn.ensemble import RandomForestClassifier\n",
    "from sklearn.svm import SVC\n",
    "from sklearn.metrics import accuracy_score, f1_score, precision_score, recall_score\n",
    "from sklearn.model_selection import train_test_split, GridSearchCV\n",
    "from imblearn.over_sampling import RandomOverSampler\n",
    "from utils import *\n",
    "from logger import logging\n",
    "from exception import CustomException\n",
    "\n",
    "# appending a path \n",
    "\n",
    "import warnings\n",
    "warnings.filterwarnings(\"ignore\")"
   ]
  },
  {
   "cell_type": "code",
   "execution_count": null,
   "metadata": {},
   "outputs": [],
   "source": [
    "# !pip install imblearn"
   ]
  },
  {
   "cell_type": "code",
   "execution_count": 8,
   "metadata": {},
   "outputs": [
    {
     "data": {
      "text/html": [
       "<div>\n",
       "<style scoped>\n",
       "    .dataframe tbody tr th:only-of-type {\n",
       "        vertical-align: middle;\n",
       "    }\n",
       "\n",
       "    .dataframe tbody tr th {\n",
       "        vertical-align: top;\n",
       "    }\n",
       "\n",
       "    .dataframe thead th {\n",
       "        text-align: right;\n",
       "    }\n",
       "</style>\n",
       "<table border=\"1\" class=\"dataframe\">\n",
       "  <thead>\n",
       "    <tr style=\"text-align: right;\">\n",
       "      <th></th>\n",
       "      <th>_id</th>\n",
       "      <th>user</th>\n",
       "      <th>content</th>\n",
       "      <th>y</th>\n",
       "    </tr>\n",
       "  </thead>\n",
       "  <tbody>\n",
       "    <tr>\n",
       "      <th>0</th>\n",
       "      <td>111753937734745893</td>\n",
       "      <td>nowifeinthelaopobing</td>\n",
       "      <td>冷静下来仍然觉得增进自己贡献价值是正路，但我今年真的要学会为自己争取才可以，我不会再让了。</td>\n",
       "      <td>0</td>\n",
       "    </tr>\n",
       "    <tr>\n",
       "      <th>1</th>\n",
       "      <td>111753937703902969</td>\n",
       "      <td>marthadear</td>\n",
       "      <td>war neulich auf ner veranstaltung und (wieder ...</td>\n",
       "      <td>1</td>\n",
       "    </tr>\n",
       "    <tr>\n",
       "      <th>2</th>\n",
       "      <td>111753937695537419</td>\n",
       "      <td>IHasWisdom</td>\n",
       "      <td>Q:\\tHow many marketing people does it take to ...</td>\n",
       "      <td>0</td>\n",
       "    </tr>\n",
       "    <tr>\n",
       "      <th>3</th>\n",
       "      <td>111753937678847359</td>\n",
       "      <td>Steffell</td>\n",
       "      <td>The everlasting romance of Education: from Yes...</td>\n",
       "      <td>0</td>\n",
       "    </tr>\n",
       "    <tr>\n",
       "      <th>4</th>\n",
       "      <td>111753937675453376</td>\n",
       "      <td>Deiru</td>\n",
       "      <td>I mean I called it right around when I barely ...</td>\n",
       "      <td>0</td>\n",
       "    </tr>\n",
       "  </tbody>\n",
       "</table>\n",
       "</div>"
      ],
      "text/plain": [
       "                  _id                  user  \\\n",
       "0  111753937734745893  nowifeinthelaopobing   \n",
       "1  111753937703902969            marthadear   \n",
       "2  111753937695537419            IHasWisdom   \n",
       "3  111753937678847359              Steffell   \n",
       "4  111753937675453376                 Deiru   \n",
       "\n",
       "                                             content  y  \n",
       "0      冷静下来仍然觉得增进自己贡献价值是正路，但我今年真的要学会为自己争取才可以，我不会再让了。  0  \n",
       "1  war neulich auf ner veranstaltung und (wieder ...  1  \n",
       "2  Q:\\tHow many marketing people does it take to ...  0  \n",
       "3  The everlasting romance of Education: from Yes...  0  \n",
       "4  I mean I called it right around when I barely ...  0  "
      ]
     },
     "execution_count": 8,
     "metadata": {},
     "output_type": "execute_result"
    }
   ],
   "source": [
    "df = pd.read_csv('../data/toots_labeled.csv')\n",
    "df.head()"
   ]
  },
  {
   "cell_type": "code",
   "execution_count": 9,
   "metadata": {},
   "outputs": [],
   "source": [
    "preprocessor = load_object('../artifacts/preprocessor.pkl')"
   ]
  },
  {
   "cell_type": "code",
   "execution_count": 23,
   "metadata": {},
   "outputs": [
    {
     "data": {
      "text/plain": [
       "(array([0, 1], dtype=int64), array([299, 304], dtype=int64))"
      ]
     },
     "execution_count": 23,
     "metadata": {},
     "output_type": "execute_result"
    }
   ],
   "source": [
    "X, y = df['content'], df['y']\n",
    "X_emb = preprocessor.fit_transform(X)\n",
    "\n",
    "# Initialize the RandomOverSampler\n",
    "oversampler = RandomOverSampler(sampling_strategy='auto', random_state=42)\n",
    "\n",
    "# Fit and transform your dataset\n",
    "X_resampled, y_resampled = oversampler.fit_resample(X_emb, y)\n",
    "\n",
    "X_train, X_test, y_train, y_test = train_test_split(X_resampled, y_resampled, test_size=0.2, random_state=42)\n",
    "\n",
    "np.unique(y_train, return_counts=True)"
   ]
  },
  {
   "cell_type": "code",
   "execution_count": 24,
   "metadata": {},
   "outputs": [],
   "source": [
    "models = {\n",
    "    \"Logistic Regression\": LogisticRegression(),\n",
    "    \"Random Forest\": RandomForestClassifier(),\n",
    "    \"SVM\": SVC(),\n",
    "    \"Naive Bayes\": MultinomialNB(),\n",
    "}\n",
    "\n",
    "params = {\n",
    "    \"Logistic Regression\": {\n",
    "        'C': [0.1, 1, 10],\n",
    "    },\n",
    "    \"Random Forest\": {\n",
    "        'n_estimators': [10, 50, 100],\n",
    "    },\n",
    "    \"SVM\": {\n",
    "        'C': [0.1, 1, 10],\n",
    "        'kernel': ['linear', 'rbf'],\n",
    "    },\n",
    "    \"Naive Bayes\": {},\n",
    "}"
   ]
  },
  {
   "cell_type": "code",
   "execution_count": 28,
   "metadata": {},
   "outputs": [],
   "source": [
    "model_report = {}\n",
    "fitted_models = {}\n",
    "for name, model in models.items():\n",
    "    logging.info(f\"Training {name}\")\n",
    "    if name in params:\n",
    "        model = GridSearchCV(model, params[name], cv=5, scoring='f1')\n",
    "        model.fit(X_train, y_train)\n",
    "        best_model = model.best_estimator_  # Use the best estimator from GridSearchCV\n",
    "        fitted_models[name] = model\n",
    "    else:\n",
    "        model.fit(X_train, y_train)\n",
    "        best_model = model  # Use the directly fitted model\n",
    "        fitted_models[name] = model\n",
    "\n",
    "    predictions = best_model.predict(X_test)\n",
    "    accuracy = accuracy_score(y_test, predictions)\n",
    "    precision = precision_score(y_test, predictions, zero_division=0)\n",
    "    recall = recall_score(y_test, predictions, zero_division=0)\n",
    "    f1 = f1_score(y_test, predictions, zero_division=0)\n",
    "    model_report[name] = f1\n",
    "    logging.info(f\"Model {name} - Accuracy: {accuracy}, Precision: {precision}, Recall: {recall}, F1 Score: {f1}\")\n",
    "\n",
    "best_model_score = max(model_report.values())\n",
    "best_model_name = max(model_report, key=model_report.get)\n",
    "# best_model = models[best_model_name]\n",
    "best_model = fitted_models[best_model_name]\n",
    "\n",
    "logging.info(f\"Best model found on train and test dataset: {best_model_name}\")"
   ]
  },
  {
   "cell_type": "code",
   "execution_count": 29,
   "metadata": {},
   "outputs": [],
   "source": [
    "# Save the best model and the vectorizer\n",
    "trained_model_file_path = \"./artifacts/model.pkl\"\n",
    "preprocessor_file_path = \"./artifacts/preprocessor.pkl\"\n",
    "\n",
    "save_object(\n",
    "    file_path= trained_model_file_path,\n",
    "    obj=best_model\n",
    ")\n",
    "save_object(\n",
    "    file_path= preprocessor_file_path,\n",
    "    obj= preprocessor\n",
    ")\n",
    "\n",
    "logging.info(\"Model and preprocessor saved to disk successfully\")"
   ]
  },
  {
   "cell_type": "code",
   "execution_count": 30,
   "metadata": {},
   "outputs": [
    {
     "name": "stdout",
     "output_type": "stream",
     "text": [
      "best_model_name Logistic Regression\n",
      "best_model_score 1.0\n",
      "accuracy 1.0\n",
      "precision 1.0\n",
      "recall 1.0\n",
      "f1_score 1.0\n"
     ]
    }
   ],
   "source": [
    "print(\"best_model_name\", best_model_name)\n",
    "print(\"best_model_score\", best_model_score)\n",
    "print(\"accuracy\", accuracy_score(y_test, best_model.predict(X_test)))\n",
    "print(\"precision\", precision_score(y_test, best_model.predict(X_test)))\n",
    "print(\"recall\", recall_score(y_test, best_model.predict(X_test)))\n",
    "print(\"f1_score\", f1_score(y_test, best_model.predict(X_test)))"
   ]
  }
 ],
 "metadata": {
  "kernelspec": {
   "display_name": "Python 3",
   "language": "python",
   "name": "python3"
  },
  "language_info": {
   "codemirror_mode": {
    "name": "ipython",
    "version": 3
   },
   "file_extension": ".py",
   "mimetype": "text/x-python",
   "name": "python",
   "nbconvert_exporter": "python",
   "pygments_lexer": "ipython3",
   "version": "3.10.10"
  }
 },
 "nbformat": 4,
 "nbformat_minor": 2
}
