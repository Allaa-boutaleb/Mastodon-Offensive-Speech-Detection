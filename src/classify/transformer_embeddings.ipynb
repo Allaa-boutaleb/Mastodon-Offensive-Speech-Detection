{
 "cells": [
  {
   "cell_type": "markdown",
   "metadata": {},
   "source": [
    "# Classification avec Transformer (Encoder seul)"
   ]
  },
  {
   "cell_type": "code",
   "execution_count": 13,
   "metadata": {},
   "outputs": [],
   "source": [
    "# !pip install dill"
   ]
  },
  {
   "cell_type": "code",
   "execution_count": 2,
   "metadata": {},
   "outputs": [],
   "source": [
    "import torch\n",
    "import torch.nn as nn\n",
    "import torch.optim as optim\n",
    "import torch.nn.functional as F\n",
    "from torch.utils.data import DataLoader, Dataset, random_split\n",
    "import torchvision.datasets as datasets\n",
    "import torchvision.transforms as transforms\n",
    "from torch.nn.utils.rnn import pad_sequence\n",
    "\n",
    "import pandas as pd\n",
    "import numpy as np\n",
    "import matplotlib.pyplot as plt\n",
    "from sklearn.model_selection import StratifiedShuffleSplit\n",
    "from sklearn.metrics import f1_score, roc_auc_score\n",
    "\n",
    "import sys\n",
    "sys.path.append('..')\n",
    "from utils import *"
   ]
  },
  {
   "cell_type": "markdown",
   "metadata": {},
   "source": [
    "## Chargement et prétraitement des données (seulement en anglais)"
   ]
  },
  {
   "cell_type": "code",
   "execution_count": 2,
   "metadata": {},
   "outputs": [
    {
     "name": "stdout",
     "output_type": "stream",
     "text": [
      "Taille des toots au début 47465\n",
      "Nb pos: 1011 -- Nb neg: 1011 -- total: 2022\n"
     ]
    },
    {
     "data": {
      "text/html": [
       "<div>\n",
       "<style scoped>\n",
       "    .dataframe tbody tr th:only-of-type {\n",
       "        vertical-align: middle;\n",
       "    }\n",
       "\n",
       "    .dataframe tbody tr th {\n",
       "        vertical-align: top;\n",
       "    }\n",
       "\n",
       "    .dataframe thead th {\n",
       "        text-align: right;\n",
       "    }\n",
       "</style>\n",
       "<table border=\"1\" class=\"dataframe\">\n",
       "  <thead>\n",
       "    <tr style=\"text-align: right;\">\n",
       "      <th></th>\n",
       "      <th>content</th>\n",
       "      <th>y</th>\n",
       "    </tr>\n",
       "  </thead>\n",
       "  <tbody>\n",
       "    <tr>\n",
       "      <th>0</th>\n",
       "      <td>Hazel with her herding ball. There is about 5 ...</td>\n",
       "      <td>0</td>\n",
       "    </tr>\n",
       "    <tr>\n",
       "      <th>1</th>\n",
       "      <td>#Earthquake (#deprem) M1.8 strikes 30 km NE of...</td>\n",
       "      <td>0</td>\n",
       "    </tr>\n",
       "    <tr>\n",
       "      <th>2</th>\n",
       "      <td>Here's the source code for the script that gen...</td>\n",
       "      <td>0</td>\n",
       "    </tr>\n",
       "    <tr>\n",
       "      <th>3</th>\n",
       "      <td>Do you consider it rude or stalky to scroll to...</td>\n",
       "      <td>0</td>\n",
       "    </tr>\n",
       "    <tr>\n",
       "      <th>4</th>\n",
       "      <td>ScienceDailyScienceDaily:  \"Your source for th...</td>\n",
       "      <td>0</td>\n",
       "    </tr>\n",
       "  </tbody>\n",
       "</table>\n",
       "</div>"
      ],
      "text/plain": [
       "                                             content  y\n",
       "0  Hazel with her herding ball. There is about 5 ...  0\n",
       "1  #Earthquake (#deprem) M1.8 strikes 30 km NE of...  0\n",
       "2  Here's the source code for the script that gen...  0\n",
       "3  Do you consider it rude or stalky to scroll to...  0\n",
       "4  ScienceDailyScienceDaily:  \"Your source for th...  0"
      ]
     },
     "execution_count": 2,
     "metadata": {},
     "output_type": "execute_result"
    }
   ],
   "source": [
    "# toots = pd.read_csv('../data/offensive_toots.csv').dropna()[['content', 'y']]\n",
    "# print('Taille des toots au début', len(toots))\n",
    "\n",
    "# # toots pos et neg\n",
    "# itoots_pos = toots['y'] == 1\n",
    "# itoots_neg = toots['y'] == 0\n",
    "# toots_pos = toots[itoots_pos]\n",
    "# toots_neg = toots[itoots_neg]\n",
    "\n",
    "# indices = np.array([i for i in range(len(toots_neg))])\n",
    "# np.random.shuffle(indices)\n",
    "# toots_neg = toots_neg.iloc[indices[:len(toots_pos)]]\n",
    "\n",
    "# # Concaténation par lignes (axis=0)\n",
    "# toots = pd.concat([toots_neg, toots_pos], axis=0, ignore_index=True)\n",
    "\n",
    "# print(f'Nb pos: {len(toots_pos)} -- Nb neg: {len(toots_neg)} -- total: {len(toots)}')\n",
    "\n",
    "# toots.head()"
   ]
  },
  {
   "cell_type": "markdown",
   "metadata": {},
   "source": [
    "## Prétraitement et sauvegarde des embeddings (8 minutes)"
   ]
  },
  {
   "cell_type": "code",
   "execution_count": 3,
   "metadata": {},
   "outputs": [
    {
     "name": "stdout",
     "output_type": "stream",
     "text": [
      "546 / 2022\r"
     ]
    },
    {
     "name": "stderr",
     "output_type": "stream",
     "text": [
      "Token indices sequence length is longer than the specified maximum sequence length for this model (569 > 512). Running this sequence through the model will result in indexing errors\n"
     ]
    },
    {
     "name": "stdout",
     "output_type": "stream",
     "text": [
      "1010 / 2022\r"
     ]
    }
   ],
   "source": [
    "# from transformers import AutoTokenizer, AutoModel\n",
    "# import torch\n",
    "\n",
    "# # Charger le modèle de tokenizer et le modèle de langue\n",
    "# tokenizer = AutoTokenizer.from_pretrained(\"bert-base-uncased\")\n",
    "# model = AutoModel.from_pretrained(\"bert-base-uncased\")\n",
    "\n",
    "# # Obtenir les embeddings pour chaque mot de chaque phrase\n",
    "# ldata = []\n",
    "# MAX_LENGTH = 250\n",
    "# for it in range(len(toots_pos)):\n",
    "#     print(f'{it} / {len(toots_pos)}', end='\\r')\n",
    "#     toot = toots.iloc[it]\n",
    "#     phrase = toot['content']\n",
    "#     y = toot['y']\n",
    "    \n",
    "#     # Obtenir les embeddings des tokens\n",
    "#     embeddings = model(torch.tensor([tokenizer.encode(phrase)[:MAX_LENGTH]]))[0]\n",
    "    \n",
    "#     ldata.append((embeddings, y))\n",
    "\n",
    "# save_object('../data/offensive_toots_emb_pos.dill', ldata)\n"
   ]
  },
  {
   "cell_type": "code",
   "execution_count": 4,
   "metadata": {},
   "outputs": [
    {
     "name": "stdout",
     "output_type": "stream",
     "text": [
      "1010 / 1011\r"
     ]
    }
   ],
   "source": [
    "\n",
    "# # Obtenir les embeddings pour chaque mot de chaque phrase\n",
    "# ldata = []\n",
    "# MAX_LENGTH = 250\n",
    "# for it in range(len(toots_neg)):\n",
    "#     print(f'{it} / {len(toots_neg)}', end='\\r')\n",
    "#     toot = toots.iloc[it]\n",
    "#     phrase = toot['content']\n",
    "#     y = toot['y']\n",
    "    \n",
    "#     # Obtenir les embeddings des tokens\n",
    "#     embeddings = model(torch.tensor([tokenizer.encode(phrase)[:MAX_LENGTH]]))[0]\n",
    "    \n",
    "#     ldata.append((embeddings, y))\n",
    "\n",
    "# save_object('../data/offensive_toots_emb_neg.dill', ldata)\n"
   ]
  },
  {
   "cell_type": "markdown",
   "metadata": {},
   "source": [
    "## Charger les embeddings déjà prétraités et enregistrés\n",
    "\n",
    "deux fichiers embed pos et neg pour ça tienne en mémoire: \n",
    "- '../data/offensive_toots_emb_pos.dill'\n",
    "- '../data/offensive_toots_emb_neg.dill'"
   ]
  },
  {
   "cell_type": "code",
   "execution_count": 9,
   "metadata": {},
   "outputs": [],
   "source": [
    "MAX_LENGTH = 60\n",
    "\n",
    "ldata_pos = load_object('../data/offensive_toots_emb_pos.dill')\n",
    "ldata_neg = load_object('../data/offensive_toots_emb_neg.dill')\n",
    "ldata = ldata_pos + ldata_neg\n",
    "ldata = [(embs.squeeze(dim=0)[:MAX_LENGTH], torch.tensor([0,1], dtype=torch.float32) ) for embs,y in ldata_pos] + \\\n",
    "  [(embs.squeeze(dim=0)[:MAX_LENGTH], torch.tensor([1,0], dtype=torch.float32) ) for embs,y in ldata_neg]\n",
    "\n",
    "# shuffle\n",
    "indices = np.array([i for i in range(len(ldata))])\n",
    "np.random.shuffle(indices,)\n",
    "\n",
    "ldata2 = [ldata[i] for i in indices]\n",
    "ldata = ldata2"
   ]
  },
  {
   "cell_type": "markdown",
   "metadata": {},
   "source": [
    "## DataLoader"
   ]
  },
  {
   "cell_type": "code",
   "execution_count": 11,
   "metadata": {},
   "outputs": [],
   "source": [
    "class MyData(Dataset):\n",
    "  def __init__(self, data):\n",
    "    self.data = data\n",
    "\n",
    "  def __len__(self):\n",
    "    return len(self.data)\n",
    "\n",
    "  def __getitem__(self, idx):\n",
    "    return self.data[idx]\n",
    "\n",
    "dataset = MyData(ldata)\n",
    "\n",
    "test_size = int(0.2 * len(dataset))\n",
    "train_size = len(dataset) - test_size\n",
    "\n",
    "train_dataset, test_dataset = random_split(dataset, [train_size, test_size])\n",
    "\n",
    "batch_size = 64\n",
    "def collate_batch(batch):\n",
    "  lembs, labels = zip(*batch)\n",
    "  \n",
    "  padded_embs = pad_sequence(lembs, batch_first=True, padding_value=0)\n",
    "\n",
    "  # Ajoutez du padding à droite avec des vecteurs remplis de zéros pour atteindre la longueur maximale\n",
    "  padded_embs = torch.nn.functional.pad(padded_embs, (0, 0, 0, MAX_LENGTH - padded_embs.size(1)))\n",
    "\n",
    "  # Le résultat sera un tensor de taille (batch_size, max_sequence_length, 768)\n",
    "  return padded_embs, torch.stack(labels)\n",
    "\n",
    "train_loader = DataLoader(train_dataset, batch_size=batch_size, collate_fn=collate_batch, shuffle=True)\n",
    "test_loader = DataLoader(test_dataset, batch_size=batch_size, collate_fn=collate_batch, shuffle=True)"
   ]
  },
  {
   "cell_type": "markdown",
   "metadata": {},
   "source": [
    "## Transformer"
   ]
  },
  {
   "cell_type": "code",
   "execution_count": 23,
   "metadata": {},
   "outputs": [],
   "source": [
    "class SAttention(nn.Module):\n",
    "  def __init__(self, k, heads, mask=False):\n",
    "    \"\"\"\n",
    "\n",
    "    :param k: taille de l'embeding\n",
    "    :param heads: nombre de heads\n",
    "    :param mask: attention sur toute la seq(False) ou les elts precs seulement\n",
    "    \"\"\"\n",
    "    \n",
    "    super(SAttention, self).__init__()\n",
    "    \n",
    "    assert k % heads == 0, f'heads ({heads}) doit etre un diviseur de k ({k})'\n",
    "\n",
    "    self.k = k\n",
    "    self.heads = heads\n",
    "    self.mask = mask\n",
    "    \n",
    "    self.tokeys = nn.Linear(k, k, bias=False)\n",
    "    self.toqueries = nn.Linear(k, k, bias=False)\n",
    "    self.tovalues = nn.Linear(k, k, bias=False)\n",
    "\n",
    "    self.unifyHeads = nn.Linear(k,k)\n",
    "  \n",
    "  def forward(self, x):\n",
    "    \n",
    "    b, t, k = x.size()\n",
    "    h = self.heads\n",
    "    assert k == self.k, f'Taille des embeddings ({k}) doit correspond a celui du init ({self.k})'\n",
    "\n",
    "    keys = self.tokeys(x)\n",
    "    queries = self.toqueries(x)\n",
    "    values = self.tovalues(x)\n",
    "    \n",
    "    # Taille de chaque head\n",
    "    s = k // h\n",
    "    \n",
    "    # batch x longueur seq x nb heads x taille head\n",
    "    keys = keys.view(b, t, h, s)\n",
    "    queries = queries.view(b, t, h, s)\n",
    "    values = values.view(b, t, h, s)\n",
    "    \n",
    "    # batch et head cote à cote\n",
    "    keys = keys.transpose(1, 2).contiguous().view(b * h, t, s)\n",
    "    queries = queries.transpose(1, 2).contiguous().view(b * h, t, s)\n",
    "    values = values.transpose(1, 2).contiguous().view(b * h, t, s)\n",
    "\n",
    "    dot = torch.bmm(queries, keys.transpose(1, 2)) # -> (b*h, t, t)\n",
    "    dot = dot / (k ** (1/2))\n",
    "    \n",
    "    if self.mask:\n",
    "      indices = torch.triu_indices(t, t, offset=1)\n",
    "      dot[:, indices[0], indices[1]] = float('-inf')\n",
    "\n",
    "    dot = F.softmax(dot, dim=2)\n",
    "    \n",
    "    out = torch.bmm(dot, values).view(b, h, t, s)\n",
    "\n",
    "    # rearrangement\n",
    "    out = out.transpose(1, 2).contiguous().view(b, t, h*s)\n",
    "\n",
    "    # unification avec MLP\n",
    "    out = self.unifyHeads(out) # -> (b, t, k)\n",
    "\n",
    "    return out\n",
    "\n",
    "class TBlock(nn.Module):\n",
    "  def __init__(self, k, heads):\n",
    "    super(TBlock, self).__init__()\n",
    "    \n",
    "    self.attention = SAttention(k, heads)\n",
    "    self.norm1 = nn.LayerNorm(k)\n",
    "    self.norm2 = nn.LayerNorm(k)\n",
    "\n",
    "    self.feedforward = nn.Sequential(\n",
    "      nn.Linear(k, 4*k),\n",
    "      nn.ReLU(),\n",
    "      nn.Linear(4*k, k)\n",
    "    )\n",
    "  \n",
    "  def forward(self, x):\n",
    "    attention = self.attention(x)\n",
    "    x = x + attention\n",
    "    x = self.norm1(x)\n",
    "    \n",
    "    feedforward = self.feedforward(x)\n",
    "    x = x + feedforward\n",
    "    out = self.norm2(x)\n",
    "\n",
    "    return out\n",
    "\n",
    "class Transformer(nn.Module):\n",
    "  def __init__(self, seq_len=MAX_LENGTH, nb_labels=2, dim=768, D=256, heads=4, L=6, name=None):\n",
    "    super(Transformer, self).__init__()\n",
    "    \n",
    "    # self.T = input_len  # lookback input size\n",
    "    # self.S = pred_len   # lookforward size, prediction size\n",
    "    # self.N = N          # nb series multivariees\n",
    "    \n",
    "    self.seq_len = seq_len\n",
    "    self.nb_labels = nb_labels\n",
    "    self.dim = dim      # dim de chaque elt de chaque seq\n",
    "    self.D = D          # dim embeddings\n",
    "    self.heads = heads  # nb attention heads\n",
    "    self.L = L          # nb TBlocks\n",
    "    self.name = name\n",
    "    \n",
    "    self.toEmbs = nn.Sequential(\n",
    "      nn.Linear(self.dim, 4 * self.dim),\n",
    "      nn.Dropout(p=0.1),\n",
    "      nn.ReLU(),\n",
    "      nn.Linear(4 * self.dim, self.D)\n",
    "    ) # seq_len x dim -> seq_len x D\n",
    "    # print(f'embs params \\n{self.toEmbs.parameters}')\n",
    "\n",
    "    tblocks = [TBlock(k=self.D, heads=heads) for _ in range(L)] # heads diviseur de D\n",
    "    self.tblocks = nn.Sequential(*tblocks) # seq_len x D -> seq_len x D\n",
    "    \n",
    "    # projection\n",
    "    self.projection = nn.Sequential(\n",
    "      nn.Linear(self.seq_len*self.D, self.D),\n",
    "      nn.Dropout(p=0.1),\n",
    "      nn.ReLU(),\n",
    "      nn.Linear(self.D, 4 * self.D),\n",
    "      nn.Dropout(p=0.1),\n",
    "      nn.ReLU(),\n",
    "      nn.Linear(4 * self.D, 8 * self.D),\n",
    "      nn.Dropout(p=0.1),\n",
    "      nn.ReLU(),\n",
    "      nn.Linear(8 * self.D, 16 * self.D),\n",
    "      nn.Dropout(p=0.1),\n",
    "      nn.ReLU(),\n",
    "      nn.Linear(16 * self.D, self.nb_labels)\n",
    "    ) # seq_len x D -> seq_len x S (transpose) -> S x N\n",
    "    \n",
    "    # print('Constructeur de iTransformer')\n",
    "    # print(f'lb {self.T} lf {self.S} mvs {N}')\n",
    "  \n",
    "  def forward(self, x):\n",
    "    \"\"\"\n",
    "\n",
    "    Args:\n",
    "      x (b, lookbacksize, N): entree batch de sequences multi variees\n",
    "    \"\"\"\n",
    "    # print('Forward Transformer')\n",
    "    b, seq_len, dim = x.size()\n",
    "    # print(f'size batch {x.size()}')\n",
    "\n",
    "    assert seq_len == self.seq_len, f'Taille de la sequence ({seq_len}) doit correspondre a self.seq_len({self.seq_len})'\n",
    "    assert dim == self.dim, f'Dimension en entrée ({dim}) doit correspondre à self.dim({self.dim})'\n",
    "    \n",
    "\n",
    "    H0 = self.toEmbs(x)   # (b, seq_len, dim) -> (b, seq_len, D)\n",
    "    # print(f'H0 embed size {H0.size()}')\n",
    "\n",
    "    HL = self.tblocks(H0) # (b, seq_len, D) -> (b, seq_len, D)\n",
    "    # print(f'HL embed size {HL.size()}')\n",
    "\n",
    "    # prediction\n",
    "    out = self.projection(HL.view(b,-1))   # (b, seq_len * D) -> (b, nb_labels)\n",
    "    out = F.softmax(out, dim=1)\n",
    "    # print(f'projection size {out.size()} -- b {b} x nb labels {self.nb_labels}')\n",
    "    \n",
    "    return out\n",
    "\n"
   ]
  },
  {
   "cell_type": "code",
   "execution_count": 13,
   "metadata": {},
   "outputs": [],
   "source": [
    "def f1score(y_true, y_pred):\n",
    "  epsilon=1e-7\n",
    "  # Calculez les vrais positifs, faux positifs et faux négatifs\n",
    "  tp = torch.sum(y_true * y_pred)\n",
    "  fp = torch.sum((1 - y_true) * y_pred)\n",
    "  fn = torch.sum(y_true * (1 - y_pred))\n",
    "\n",
    "  # Calculez la précision, le rappel et le F1 score\n",
    "  precision = tp / (tp + fp + epsilon)\n",
    "  recall = tp / (tp + fn + epsilon)\n",
    "  f1 = 2 * (precision * recall) / (precision + recall + epsilon)\n",
    "\n",
    "  return f1\n",
    "\n",
    "def balanced_accuracy(lyhat, ly):\n",
    "  lyhat, ly = torch.tensor(lyhat), torch.tensor(ly)\n",
    "\n",
    "  ipos, ineg = ly == 1, ly == 0\n",
    "  ly_pos, ly_neg = ly[ipos], ly[ineg]\n",
    "  lyhat_pos, lyhat_neg = lyhat[ipos], lyhat[ineg]\n",
    "\n",
    "  tp = (lyhat_pos == ly_pos).sum()\n",
    "  tn = (lyhat_neg == ly_neg).sum()\n",
    "  \n",
    "  sensitive_p = tp / len(ly_pos)\n",
    "  sensitive_n = tn / len(ly_neg)\n",
    "\n",
    "  ba = (sensitive_p + sensitive_n) / 2\n",
    "  \n",
    "  return ba\n",
    "\n",
    "def raucAuc(self, lyhat, ly):\n",
    "  # Convertir les listes en tenseurs PyTorch\n",
    "  predictions_prob = torch.tensor(predictions_prob)\n",
    "  targets = torch.tensor(targets)\n",
    "\n",
    "  # Utiliser scikit-learn pour calculer l'aire sous la courbe ROC (ROC-AUC)\n",
    "  roc_auc = roc_auc_score(np.array(lyhat), np.array(ly))\n",
    "\n",
    "  return roc_auc\n"
   ]
  },
  {
   "cell_type": "code",
   "execution_count": 14,
   "metadata": {},
   "outputs": [],
   "source": [
    "def apprentissage(net, criterion, optimizer, train_dl, test_dl, epochs):\n",
    "  train_loss, test_loss = [], []\n",
    "  for epoch in range(epochs):\n",
    "    print(f\"Epoch [{(epoch+1):4d}/{epochs:4d}] \")\n",
    "    lep = []\n",
    "    net.train()\n",
    "    for batch_idx, (batch, y) in enumerate(train_dl):\n",
    "\n",
    "      yhat = net(batch)\n",
    "      loss = criterion(y, yhat)\n",
    "      \n",
    "      optimizer.zero_grad()\n",
    "      loss.backward()\n",
    "      optimizer.step()\n",
    "      \n",
    "      # save loss train\n",
    "      lep.append(loss.detach().numpy())\n",
    "      \n",
    "      print(\n",
    "        f\"\\ttrain batch [{(batch_idx+1):4d}/{len(train_dl):4d}] - \"\n",
    "        f\"Loss : {lep[-1]:.4f} \", end=\"\\r\"\n",
    "      )\n",
    "    print(\n",
    "      f\"\\ttrain batch [{(batch_idx+1):4d}/{len(train_dl):4d}] - \"\n",
    "      f\"Loss : {lep[-1]:.4f} \"\n",
    "    )\n",
    "    train_loss.append(np.mean(lep))\n",
    "    \n",
    "    lep = []\n",
    "    net.eval()\n",
    "    for batch_idx, (batch, y) in enumerate(test_dl):\n",
    "\n",
    "      yhat = net(batch)\n",
    "      loss = criterion(y, yhat)\n",
    "      lep.append(loss.detach().numpy())\n",
    "      \n",
    "      print(\n",
    "        f\"\\ttest batch [{(batch_idx+1):4d}/{len(test_dl):4d}] - \"\n",
    "        f\"Loss : {lep[-1]:.4f} \", end=\"\\r\"\n",
    "      )\n",
    "    print(\n",
    "      f\"\\ttest batch [{(batch_idx+1):4d}/{len(test_dl):4d}] - \"\n",
    "      f\"Loss : {lep[-1]:.4f} \"\n",
    "    )\n",
    "    test_loss.append(np.mean(lep))\n",
    "  \n",
    "  return train_loss, test_loss\n",
    "\n",
    "def prediction(net, dl):\n",
    "  net.eval()\n",
    "  lyhat, ly = [], []\n",
    "  for batch_idx, (batch, y) in enumerate(dl):\n",
    "    \n",
    "    yhat = net(batch)\n",
    "    \n",
    "    labels = torch.argmax(y, dim=1) # [0,1] pos et [1,0] neg\n",
    "    preds  = torch.argmax(yhat, dim=1) # arg1 pos\n",
    "    \n",
    "    ly.extend(labels)\n",
    "    lyhat.extend(preds)\n",
    "\n",
    "  lyhat, ly = torch.vstack(lyhat).squeeze(), torch.vstack(ly).squeeze()\n",
    "  print('y', torch.bincount(ly))\n",
    "  print('yhat', torch.bincount(lyhat))\n",
    "\n",
    "  ipos, ineg = ly == 1, ly == 0\n",
    "  ly_pos, ly_neg = ly[ipos], ly[ineg]\n",
    "  lyhat_pos, lyhat_neg = lyhat[ipos], lyhat[ineg]\n",
    "\n",
    "  print(f'Taux de prediction total: {(100*((lyhat == ly).sum()/ len(ly))):.2f}%')\n",
    "  print(f'Taux de prediction sur les pos: {(100*((lyhat_pos == ly_pos).sum()/ len(ly_pos))):.2f}%')\n",
    "  print(f'Taux de prediction sur les neg: {(100*((lyhat_neg == ly_neg).sum()/ len(ly_neg))):.2f}%')\n",
    "  \n",
    "  f1_sc_pos = f1score(ly, lyhat)\n",
    "  f1_sc_neg = f1score(1-ly, 1-lyhat)\n",
    "  print(f'F1 score (positifs): {(100*f1_sc_pos):.2f}%')\n",
    "  print(f'F1 score (négatifs): {(100*f1_sc_neg):.2f}%')\n",
    "  \n",
    "  f1_macro_loss = (f1_sc_pos + f1_sc_neg) / 2\n",
    "  print(f'f1 macro score : {(100*f1_macro_loss):.2f}%')\n",
    "\n",
    "  # scores\n",
    "  tp = (lyhat_pos == ly_pos).sum()\n",
    "  tn = (lyhat_neg == ly_neg).sum()\n",
    "  fp = (lyhat_pos != ly_pos).sum()\n",
    "  fn = (lyhat_neg != ly_neg).sum()\n",
    "\n",
    "  accuracy_score = (tp + tn) / (tp + tn + fp + fn)\n",
    "  precision_score = tp / (tp + fp)\n",
    "  recall_score = tp / (tp + fn)\n",
    "  f1_score = 2*precision_score*recall_score / (precision_score + recall_score)\n",
    "\n",
    "  print(f'\\naccuracy score: {(100*accuracy_score):.2f}%')\n",
    "  print(f'precision score: {(100*precision_score):.2f}%')\n",
    "  print(f'recall score: {(100*recall_score):.2f}%')\n",
    "  print(f'f1 score: {(100*f1_score):.2f}%')\n",
    "  \n",
    "  return lyhat\n"
   ]
  },
  {
   "cell_type": "markdown",
   "metadata": {},
   "source": [
    "## Apprentissage"
   ]
  },
  {
   "cell_type": "code",
   "execution_count": 24,
   "metadata": {},
   "outputs": [],
   "source": [
    "net = Transformer()\n",
    "optimizer = torch.optim.Adam(net.parameters(), lr=3e-4)\n",
    "criterion = nn.CrossEntropyLoss()\n",
    "\n",
    "epochs = 3"
   ]
  },
  {
   "cell_type": "code",
   "execution_count": 29,
   "metadata": {},
   "outputs": [],
   "source": [
    "for batch_idx, (batch, y) in enumerate(train_loader):\n",
    "  yhat = net(batch)\n",
    "  \n",
    "  break"
   ]
  },
  {
   "cell_type": "code",
   "execution_count": 25,
   "metadata": {},
   "outputs": [
    {
     "name": "stdout",
     "output_type": "stream",
     "text": [
      "Epoch [   1/   3] \n",
      "\ttrain batch [  26/  26] - Loss : 0.7022 \n",
      "\ttest batch [   7/   7] - Loss : 0.9133 \n",
      "Epoch [   2/   3] \n",
      "\ttrain batch [  26/  26] - Loss : 0.7577 \n",
      "\ttest batch [   7/   7] - Loss : 0.7633 \n",
      "Epoch [   3/   3] \n",
      "\ttrain batch [  26/  26] - Loss : 0.8133 \n",
      "\ttest batch [   7/   7] - Loss : 0.8633 \n"
     ]
    }
   ],
   "source": [
    "train_loss, test_loss = apprentissage(net, criterion, optimizer, train_loader, test_loader, epochs)"
   ]
  },
  {
   "cell_type": "code",
   "execution_count": 26,
   "metadata": {},
   "outputs": [
    {
     "data": {
      "image/png": "[encoded data removed]",
      "text/plain": [
       "<Figure size 640x480 with 1 Axes>"
      ]
     },
     "metadata": {},
     "output_type": "display_data"
    }
   ],
   "source": [
    "plt.plot(train_loss, label='loss train')\n",
    "plt.plot(test_loss, label='loss test')\n",
    "plt.xlabel('Epochs')\n",
    "plt.ylabel('loss')\n",
    "plt.legend()\n",
    "plt.show()"
   ]
  },
  {
   "cell_type": "markdown",
   "metadata": {},
   "source": [
    "### Taux de bonnes prédiction dans train"
   ]
  },
  {
   "cell_type": "markdown",
   "metadata": {},
   "source": [
    "### Taux de bonnes prédiction dans test"
   ]
  },
  {
   "cell_type": "code",
   "execution_count": 27,
   "metadata": {},
   "outputs": [
    {
     "name": "stdout",
     "output_type": "stream",
     "text": [
      "y tensor([205, 199])\n",
      "yhat tensor([404])\n",
      "Taux de prediction total: 50.74%\n",
      "Taux de prediction sur les pos: 0.00%\n",
      "Taux de prediction sur les neg: 100.00%\n",
      "F1 score (positifs): 0.00%\n",
      "F1 score (négatifs): 67.32%\n",
      "f1 macro score : 33.66%\n",
      "\n",
      "accuracy score: 50.74%\n",
      "precision score: 0.00%\n",
      "recall score: nan%\n",
      "f1 score: nan%\n"
     ]
    }
   ],
   "source": [
    "lyhat = prediction(net, test_loader)"
   ]
  }
 ],
 "metadata": {
  "kernelspec": {
   "display_name": "Python 3",
   "language": "python",
   "name": "python3"
  },
  "language_info": {
   "codemirror_mode": {
    "name": "ipython",
    "version": 3
   },
   "file_extension": ".py",
   "mimetype": "text/x-python",
   "name": "python",
   "nbconvert_exporter": "python",
   "pygments_lexer": "ipython3",
   "version": "3.11.6"
  }
 },
 "nbformat": 4,
 "nbformat_minor": 2
}
